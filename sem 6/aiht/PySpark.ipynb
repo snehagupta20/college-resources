{
  "nbformat": 4,
  "nbformat_minor": 0,
  "metadata": {
    "colab": {
      "provenance": []
    },
    "kernelspec": {
      "name": "python3",
      "display_name": "Python 3"
    },
    "language_info": {
      "name": "python"
    }
  },
  "cells": [
    {
      "cell_type": "code",
      "execution_count": null,
      "metadata": {
        "colab": {
          "base_uri": "https://localhost:8080/",
          "height": 549
        },
        "id": "EVxNZAUj5-Z3",
        "outputId": "a5d0414e-653c-440b-bb6a-f6943c1a34f7"
      },
      "outputs": [
        {
          "output_type": "stream",
          "name": "stdout",
          "text": [
            "\r0% [Working]\r            \rGet:1 https://cloud.r-project.org/bin/linux/ubuntu jammy-cran40/ InRelease [3,626 B]\n",
            "\r0% [Connecting to archive.ubuntu.com (185.125.190.36)] [Waiting for headers] [1 InRelease 3,626 B/3,\r0% [Connecting to archive.ubuntu.com (185.125.190.36)] [Waiting for headers] [Connecting to ppa.laun\r                                                                                                    \rGet:2 http://security.ubuntu.com/ubuntu jammy-security InRelease [110 kB]\n",
            "Get:3 https://developer.download.nvidia.com/compute/cuda/repos/ubuntu2204/x86_64  InRelease [1,581 B]\n",
            "Hit:4 http://archive.ubuntu.com/ubuntu jammy InRelease\n",
            "Get:5 http://archive.ubuntu.com/ubuntu jammy-updates InRelease [119 kB]\n",
            "Get:6 https://developer.download.nvidia.com/compute/cuda/repos/ubuntu2204/x86_64  Packages [737 kB]\n",
            "Hit:7 https://ppa.launchpadcontent.net/c2d4u.team/c2d4u4.0+/ubuntu jammy InRelease\n",
            "Hit:8 https://ppa.launchpadcontent.net/deadsnakes/ppa/ubuntu jammy InRelease\n",
            "Get:9 http://archive.ubuntu.com/ubuntu jammy-backports InRelease [109 kB]\n",
            "Hit:10 https://ppa.launchpadcontent.net/graphics-drivers/ppa/ubuntu jammy InRelease\n",
            "Get:11 http://security.ubuntu.com/ubuntu jammy-security/main amd64 Packages [1,569 kB]\n",
            "Hit:12 https://ppa.launchpadcontent.net/ubuntugis/ppa/ubuntu jammy InRelease\n",
            "Get:13 http://security.ubuntu.com/ubuntu jammy-security/restricted amd64 Packages [1,961 kB]\n",
            "Get:14 http://archive.ubuntu.com/ubuntu jammy-updates/main amd64 Packages [1,848 kB]\n",
            "Get:15 http://archive.ubuntu.com/ubuntu jammy-updates/restricted amd64 Packages [1,998 kB]\n",
            "Get:16 http://archive.ubuntu.com/ubuntu jammy-updates/universe amd64 Packages [1,353 kB]\n",
            "Fetched 9,808 kB in 3s (2,907 kB/s)\n",
            "Reading package lists... Done\n",
            "sample_data  spark-3.1.1-bin-hadoop3.2\tspark-3.1.1-bin-hadoop3.2.tgz\n"
          ]
        },
        {
          "output_type": "execute_result",
          "data": {
            "text/plain": [
              "<pyspark.sql.session.SparkSession at 0x7ebed4115ae0>"
            ],
            "text/html": [
              "\n",
              "            <div>\n",
              "                <p><b>SparkSession - in-memory</b></p>\n",
              "                \n",
              "        <div>\n",
              "            <p><b>SparkContext</b></p>\n",
              "\n",
              "            <p><a href=\"http://2d485fc1d2a1:4040\">Spark UI</a></p>\n",
              "\n",
              "            <dl>\n",
              "              <dt>Version</dt>\n",
              "                <dd><code>v3.1.1</code></dd>\n",
              "              <dt>Master</dt>\n",
              "                <dd><code>local[*]</code></dd>\n",
              "              <dt>AppName</dt>\n",
              "                <dd><code>pyspark-shell</code></dd>\n",
              "            </dl>\n",
              "        </div>\n",
              "        \n",
              "            </div>\n",
              "        "
            ]
          },
          "metadata": {},
          "execution_count": 1
        }
      ],
      "source": [
        "!apt-get update # Update apt-get repository.\n",
        "!apt-get install openjdk-8-jdk-headless -qq > /dev/null # Install Java.\n",
        "!wget -q http://archive.apache.org/dist/spark/spark-3.1.1/spark-3.1.1-bin-hadoop3.2.tgz # Download Apache Sparks.\n",
        "!tar xf spark-3.1.1-bin-hadoop3.2.tgz # Unzip the tgz file.\n",
        "!pip install -q findspark # Install findspark. Adds PySpark to the System path during runtime.\n",
        "\n",
        "# Set environment variables\n",
        "import os\n",
        "os.environ[\"JAVA_HOME\"] = \"/usr/lib/jvm/java-8-openjdk-amd64\"\n",
        "os.environ[\"SPARK_HOME\"] = \"/content/spark-3.1.1-bin-hadoop3.2\"\n",
        "\n",
        "!ls\n",
        "\n",
        "# Initialize findspark\n",
        "import findspark\n",
        "findspark.init()\n",
        "\n",
        "# Create a PySpark session\n",
        "from pyspark.sql import SparkSession\n",
        "spark = SparkSession.builder.master(\"local[*]\").getOrCreate()\n",
        "spark"
      ]
    },
    {
      "cell_type": "code",
      "source": [
        "df=spark.read.format(\"csv\").option(\"header\", \"true\").load(\"sample_data/sales_data_sample.csv\")"
      ],
      "metadata": {
        "id": "6XWX6BI75_9g"
      },
      "execution_count": 2,
      "outputs": []
    },
    {
      "cell_type": "code",
      "source": [
        "df.show(5);"
      ],
      "metadata": {
        "colab": {
          "base_uri": "https://localhost:8080/"
        },
        "id": "hp0dvpwY7psT",
        "outputId": "cbfb0278-6078-4876-eef7-c59c3e4101a8"
      },
      "execution_count": 4,
      "outputs": [
        {
          "output_type": "stream",
          "name": "stdout",
          "text": [
            "+-----------+---------------+---------+---------------+-------+---------------+-------+------+--------+-------+-----------+----+-----------+--------------------+----------------+--------------------+------------+-------------+-----+----------+-------+---------+---------------+----------------+--------+\n",
            "|ORDERNUMBER|QUANTITYORDERED|PRICEEACH|ORDERLINENUMBER|  SALES|      ORDERDATE| STATUS|QTR_ID|MONTH_ID|YEAR_ID|PRODUCTLINE|MSRP|PRODUCTCODE|        CUSTOMERNAME|           PHONE|        ADDRESSLINE1|ADDRESSLINE2|         CITY|STATE|POSTALCODE|COUNTRY|TERRITORY|CONTACTLASTNAME|CONTACTFIRSTNAME|DEALSIZE|\n",
            "+-----------+---------------+---------+---------------+-------+---------------+-------+------+--------+-------+-----------+----+-----------+--------------------+----------------+--------------------+------------+-------------+-----+----------+-------+---------+---------------+----------------+--------+\n",
            "|      10107|             30|     95.7|              2|   2871| 2/24/2003 0:00|Shipped|     1|       2|   2003|Motorcycles|  95|   S10_1678|   Land of Toys Inc.|      2125557818|897 Long Airport ...|        null|          NYC|   NY|     10022|    USA|       NA|             Yu|            Kwai|   Small|\n",
            "|      10121|             34|    81.35|              5| 2765.9|  5/7/2003 0:00|Shipped|     2|       5|   2003|Motorcycles|  95|   S10_1678|  Reims Collectables|      26.47.1555|  59 rue de l'Abbaye|        null|        Reims| null|     51100| France|     EMEA|        Henriot|            Paul|   Small|\n",
            "|      10134|             41|    94.74|              2|3884.34|  7/1/2003 0:00|Shipped|     3|       7|   2003|Motorcycles|  95|   S10_1678|     Lyon Souveniers|+33 1 46 62 7555|27 rue du Colonel...|        null|        Paris| null|     75508| France|     EMEA|       Da Cunha|          Daniel|  Medium|\n",
            "|      10145|             45|    83.26|              6| 3746.7| 8/25/2003 0:00|Shipped|     3|       8|   2003|Motorcycles|  95|   S10_1678|   Toys4GrownUps.com|      6265557265|  78934 Hillside Dr.|        null|     Pasadena|   CA|     90003|    USA|       NA|          Young|           Julie|  Medium|\n",
            "|      10159|             49|      100|             14|5205.27|10/10/2003 0:00|Shipped|     4|      10|   2003|Motorcycles|  95|   S10_1678|Corporate Gift Id...|      6505551386|     7734 Strong St.|        null|San Francisco|   CA|      null|    USA|       NA|          Brown|           Julie|  Medium|\n",
            "+-----------+---------------+---------+---------------+-------+---------------+-------+------+--------+-------+-----------+----+-----------+--------------------+----------------+--------------------+------------+-------------+-----+----------+-------+---------+---------------+----------------+--------+\n",
            "only showing top 5 rows\n",
            "\n"
          ]
        }
      ]
    },
    {
      "cell_type": "code",
      "source": [
        "from pyspark import SparkContext, SparkConf\n"
      ],
      "metadata": {
        "id": "2LKVmS2v8UzS"
      },
      "execution_count": 5,
      "outputs": []
    },
    {
      "cell_type": "code",
      "source": [
        "# Initialize Spark context using getOrCreate()\n",
        "sc = SparkContext.getOrCreate(SparkConf().setAppName(\"Sales Analysis\"))"
      ],
      "metadata": {
        "id": "C3HEc_EC8YiW"
      },
      "execution_count": 13,
      "outputs": []
    },
    {
      "cell_type": "code",
      "source": [
        "sales_rdd = sc.textFile(\"sample_data/sales_data_sample.csv\").filter(lambda line: not line.startswith(\"ORDERNUMBER\"))"
      ],
      "metadata": {
        "id": "xLQZxEwX8cNM"
      },
      "execution_count": 17,
      "outputs": []
    },
    {
      "cell_type": "code",
      "source": [
        "\n",
        "# Example: Filter the dataset to get sales with a quantity greater than 40\n",
        "filtered_sales_rdd = sales_rdd.filter(lambda line: int(line.split(',')[1]) > 40)\n"
      ],
      "metadata": {
        "id": "kgj80Bfa9PeF"
      },
      "execution_count": 18,
      "outputs": []
    },
    {
      "cell_type": "code",
      "source": [
        "# Example: Calculate total sales amount\n",
        "total_sales_amount = sales_rdd.map(lambda line: float(line.split(',')[4])).sum()\n",
        "print(\"Total Sales Amount:\", total_sales_amount)\n"
      ],
      "metadata": {
        "colab": {
          "base_uri": "https://localhost:8080/"
        },
        "id": "ZvEfeW8d9RYs",
        "outputId": "0bd798e0-7c28-419e-851c-5a4bd9c03320"
      },
      "execution_count": 19,
      "outputs": [
        {
          "output_type": "stream",
          "name": "stdout",
          "text": [
            "Total Sales Amount: 10032628.849999994\n"
          ]
        }
      ]
    },
    {
      "cell_type": "code",
      "source": [
        "# Count the number of records in the RDD\n",
        "record_count = sales_rdd.count()\n",
        "print(\"Number of records:\", record_count)"
      ],
      "metadata": {
        "colab": {
          "base_uri": "https://localhost:8080/"
        },
        "id": "vM5pzWsT9Ywg",
        "outputId": "be071b77-79c5-435a-c00d-40de70cfddc1"
      },
      "execution_count": 20,
      "outputs": [
        {
          "output_type": "stream",
          "name": "stdout",
          "text": [
            "Number of records: 2823\n"
          ]
        }
      ]
    },
    {
      "cell_type": "markdown",
      "source": [
        "DATA CLEANING"
      ],
      "metadata": {
        "id": "z-FFEgDy-hlr"
      }
    },
    {
      "cell_type": "code",
      "source": [
        "spark = SparkSession.builder.appName(\"DataCleaning\").getOrCreate()"
      ],
      "metadata": {
        "id": "bxsOeJPQ-LhZ"
      },
      "execution_count": 22,
      "outputs": []
    },
    {
      "cell_type": "code",
      "source": [
        "df = spark.read.csv(\"sample_data/sales_data_sample.csv\", header=True, inferSchema=True)\n"
      ],
      "metadata": {
        "id": "hd4c_Tmi-j21"
      },
      "execution_count": 24,
      "outputs": []
    },
    {
      "cell_type": "code",
      "source": [
        "# Use describe to get summary statistics\n",
        "summary = df.describe()\n",
        "\n",
        "# Show the summary statistics\n",
        "summary.show()\n"
      ],
      "metadata": {
        "colab": {
          "base_uri": "https://localhost:8080/"
        },
        "id": "1_0Lkz9o-7F2",
        "outputId": "7dce34b4-dfbe-473c-88d8-b8016866c758"
      },
      "execution_count": 29,
      "outputs": [
        {
          "output_type": "stream",
          "name": "stdout",
          "text": [
            "+-------+------------------+-----------------+------------------+-----------------+------------------+--------------+---------+------------------+------------------+------------------+------------+------------------+-----------+-----------------+--------------------+--------------------+------------+------------+--------+------------------+---------+---------+---------------+----------------+--------+\n",
            "|summary|       ORDERNUMBER|  QUANTITYORDERED|         PRICEEACH|  ORDERLINENUMBER|             SALES|     ORDERDATE|   STATUS|            QTR_ID|          MONTH_ID|           YEAR_ID| PRODUCTLINE|              MSRP|PRODUCTCODE|     CUSTOMERNAME|               PHONE|        ADDRESSLINE1|ADDRESSLINE2|        CITY|   STATE|        POSTALCODE|  COUNTRY|TERRITORY|CONTACTLASTNAME|CONTACTFIRSTNAME|DEALSIZE|\n",
            "+-------+------------------+-----------------+------------------+-----------------+------------------+--------------+---------+------------------+------------------+------------------+------------+------------------+-----------+-----------------+--------------------+--------------------+------------+------------+--------+------------------+---------+---------+---------------+----------------+--------+\n",
            "|  count|              2823|             2823|              2823|             2823|              2823|          2823|     2823|              2823|              2823|              2823|        2823|              2823|       2823|             2823|                2823|                2823|         302|        2823|    1337|              2747|     2823|     2823|           2823|            2823|    2823|\n",
            "|   mean|10258.725115125753|35.09280906836698| 83.65854410201929|6.466170740347148|  3553.88907190932|          null|     null|2.7176762309599716|7.0924548352816155|2003.8150903294368|        null|100.71555083244775|       null|             null| 4.443333969582669E9|                null|        null|        null|    null|46823.061787905346|     null|     null|           null|            null|    null|\n",
            "| stddev|  92.0854775957196| 9.74144273706958|20.174276527840536| 4.22584096469094|1841.8651057401842|          null|     null| 1.203878088001756| 3.656633307661765|0.6996701541300869|        null| 40.18791167720266|       null|             null|1.9551944712750926E9|                null|        null|        null|    null| 33486.50903171618|     null|     null|           null|            null|    null|\n",
            "|    min|             10100|                6|             26.88|                1|            482.13|1/10/2003 0:00|Cancelled|                 1|                 1|              2003|Classic Cars|                33|   S10_1678|   AV Stores, Co.|        (02) 5554 67|1 rue Alsace-Lorr...|   2nd Floor|     Aaarhus|      BC|             10022|Australia|     APAC|        Accorti|          Adrian|   Large|\n",
            "|    max|             10425|               97|             100.0|               18|           14082.8| 9/9/2004 0:00|  Shipped|                 4|                12|              2005|Vintage Cars|               214|   S72_3212|giftsbymail.co.uk|          981-443655|        Vinb'ltet 34|   Suite 750|White Plains|Victoria|           WX3 6FW|      USA|       NA|             Yu|           Yoshi|   Small|\n",
            "+-------+------------------+-----------------+------------------+-----------------+------------------+--------------+---------+------------------+------------------+------------------+------------+------------------+-----------+-----------------+--------------------+--------------------+------------+------------+--------+------------------+---------+---------+---------------+----------------+--------+\n",
            "\n"
          ]
        }
      ]
    },
    {
      "cell_type": "code",
      "source": [
        "\n",
        "\n",
        "# Convert the count column from string to integer\n",
        "count_col = [col for col in summary.columns if \"count\" in col]\n",
        "if count_col:\n",
        "    count_col = count_col[0]\n",
        "    summary = summary.withColumn(count_col, summary[count_col].cast(\"int\"))\n",
        "\n",
        "    # Identify columns with missing values (count less than total rows)\n",
        "    missing_columns = [col for col in df.columns if summary.where(summary[count_col] < df.count()).select(col).count() > 0]\n",
        "\n",
        "    print(\"Columns with missing values:\", missing_columns)\n",
        "else:\n",
        "    print(\"Count column not found in the summary DataFrame.\")\n"
      ],
      "metadata": {
        "colab": {
          "base_uri": "https://localhost:8080/"
        },
        "id": "TTYECkIb_Fqw",
        "outputId": "68a40ffa-c313-49f5-c64c-96ada03e8e00"
      },
      "execution_count": 35,
      "outputs": [
        {
          "output_type": "stream",
          "name": "stdout",
          "text": [
            "Count column not found in the summary DataFrame.\n"
          ]
        }
      ]
    },
    {
      "cell_type": "code",
      "source": [
        ""
      ],
      "metadata": {
        "id": "-HICAVSX_-4R"
      },
      "execution_count": null,
      "outputs": []
    }
  ]
}