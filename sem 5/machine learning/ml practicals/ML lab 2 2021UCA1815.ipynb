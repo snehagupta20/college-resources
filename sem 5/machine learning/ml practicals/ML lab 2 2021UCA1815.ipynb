{
 "cells": [
  {
   "cell_type": "code",
   "execution_count": 1,
   "id": "1a62d856-0df1-49d8-91e2-9fb90baba2a3",
   "metadata": {},
   "outputs": [],
   "source": [
    "import pandas as pd \n",
    "import matplotlib.pyplot as plt\n",
    "import numpy as np\n",
    "import seaborn as sns\n",
    "import statsmodels.api as sm\n",
    "import pylab as py\t"
   ]
  },
  {
   "cell_type": "code",
   "execution_count": 5,
   "id": "fd80cc36-73c4-4488-a04d-f51bf19b3b6b",
   "metadata": {},
   "outputs": [
    {
     "data": {
      "text/html": [
       "<div>\n",
       "<style scoped>\n",
       "    .dataframe tbody tr th:only-of-type {\n",
       "        vertical-align: middle;\n",
       "    }\n",
       "\n",
       "    .dataframe tbody tr th {\n",
       "        vertical-align: top;\n",
       "    }\n",
       "\n",
       "    .dataframe thead th {\n",
       "        text-align: right;\n",
       "    }\n",
       "</style>\n",
       "<table border=\"1\" class=\"dataframe\">\n",
       "  <thead>\n",
       "    <tr style=\"text-align: right;\">\n",
       "      <th></th>\n",
       "      <th>station</th>\n",
       "      <th>Date</th>\n",
       "      <th>Present_Tmax</th>\n",
       "      <th>Present_Tmin</th>\n",
       "      <th>LDAPS_RHmin</th>\n",
       "      <th>LDAPS_RHmax</th>\n",
       "      <th>LDAPS_Tmax_lapse</th>\n",
       "      <th>LDAPS_Tmin_lapse</th>\n",
       "      <th>LDAPS_WS</th>\n",
       "      <th>LDAPS_LH</th>\n",
       "      <th>...</th>\n",
       "      <th>LDAPS_PPT2</th>\n",
       "      <th>LDAPS_PPT3</th>\n",
       "      <th>LDAPS_PPT4</th>\n",
       "      <th>lat</th>\n",
       "      <th>lon</th>\n",
       "      <th>DEM</th>\n",
       "      <th>Slope</th>\n",
       "      <th>Solar radiation</th>\n",
       "      <th>Next_Tmax</th>\n",
       "      <th>Next_Tmin</th>\n",
       "    </tr>\n",
       "  </thead>\n",
       "  <tbody>\n",
       "    <tr>\n",
       "      <th>285</th>\n",
       "      <td>11.0</td>\n",
       "      <td>2013-07-11</td>\n",
       "      <td>25.9</td>\n",
       "      <td>24.5</td>\n",
       "      <td>84.183594</td>\n",
       "      <td>94.588783</td>\n",
       "      <td>25.493900</td>\n",
       "      <td>23.203183</td>\n",
       "      <td>7.985504</td>\n",
       "      <td>43.063029</td>\n",
       "      <td>...</td>\n",
       "      <td>2.398282</td>\n",
       "      <td>4.213698</td>\n",
       "      <td>0.869906</td>\n",
       "      <td>37.5372</td>\n",
       "      <td>127.085</td>\n",
       "      <td>28.7000</td>\n",
       "      <td>0.6233</td>\n",
       "      <td>5773.572754</td>\n",
       "      <td>25.4</td>\n",
       "      <td>23.7</td>\n",
       "    </tr>\n",
       "    <tr>\n",
       "      <th>7323</th>\n",
       "      <td>24.0</td>\n",
       "      <td>2017-08-13</td>\n",
       "      <td>28.7</td>\n",
       "      <td>25.5</td>\n",
       "      <td>61.201973</td>\n",
       "      <td>75.511261</td>\n",
       "      <td>26.858758</td>\n",
       "      <td>23.288472</td>\n",
       "      <td>10.217053</td>\n",
       "      <td>49.123382</td>\n",
       "      <td>...</td>\n",
       "      <td>0.000000</td>\n",
       "      <td>0.000000</td>\n",
       "      <td>0.007756</td>\n",
       "      <td>37.5237</td>\n",
       "      <td>126.909</td>\n",
       "      <td>17.2956</td>\n",
       "      <td>0.2223</td>\n",
       "      <td>5047.767578</td>\n",
       "      <td>27.6</td>\n",
       "      <td>24.0</td>\n",
       "    </tr>\n",
       "    <tr>\n",
       "      <th>2185</th>\n",
       "      <td>11.0</td>\n",
       "      <td>2014-07-25</td>\n",
       "      <td>34.4</td>\n",
       "      <td>22.1</td>\n",
       "      <td>53.896526</td>\n",
       "      <td>86.164993</td>\n",
       "      <td>27.338995</td>\n",
       "      <td>23.990024</td>\n",
       "      <td>16.201483</td>\n",
       "      <td>96.824559</td>\n",
       "      <td>...</td>\n",
       "      <td>0.245914</td>\n",
       "      <td>0.000000</td>\n",
       "      <td>0.000000</td>\n",
       "      <td>37.5372</td>\n",
       "      <td>127.085</td>\n",
       "      <td>28.7000</td>\n",
       "      <td>0.6233</td>\n",
       "      <td>5555.624512</td>\n",
       "      <td>28.2</td>\n",
       "      <td>21.6</td>\n",
       "    </tr>\n",
       "    <tr>\n",
       "      <th>202</th>\n",
       "      <td>3.0</td>\n",
       "      <td>2013-07-08</td>\n",
       "      <td>26.1</td>\n",
       "      <td>23.2</td>\n",
       "      <td>72.960640</td>\n",
       "      <td>95.537552</td>\n",
       "      <td>28.342721</td>\n",
       "      <td>23.582054</td>\n",
       "      <td>8.952834</td>\n",
       "      <td>23.765362</td>\n",
       "      <td>...</td>\n",
       "      <td>0.000000</td>\n",
       "      <td>0.020585</td>\n",
       "      <td>0.000000</td>\n",
       "      <td>37.5776</td>\n",
       "      <td>127.058</td>\n",
       "      <td>33.3068</td>\n",
       "      <td>0.2661</td>\n",
       "      <td>5804.364746</td>\n",
       "      <td>27.2</td>\n",
       "      <td>23.4</td>\n",
       "    </tr>\n",
       "    <tr>\n",
       "      <th>1494</th>\n",
       "      <td>20.0</td>\n",
       "      <td>2013-08-28</td>\n",
       "      <td>30.4</td>\n",
       "      <td>22.1</td>\n",
       "      <td>73.714874</td>\n",
       "      <td>96.804031</td>\n",
       "      <td>26.235513</td>\n",
       "      <td>22.913159</td>\n",
       "      <td>13.912146</td>\n",
       "      <td>40.663272</td>\n",
       "      <td>...</td>\n",
       "      <td>0.210967</td>\n",
       "      <td>7.667776</td>\n",
       "      <td>0.000000</td>\n",
       "      <td>37.6181</td>\n",
       "      <td>127.004</td>\n",
       "      <td>146.5540</td>\n",
       "      <td>4.7296</td>\n",
       "      <td>4632.916992</td>\n",
       "      <td>26.8</td>\n",
       "      <td>22.4</td>\n",
       "    </tr>\n",
       "  </tbody>\n",
       "</table>\n",
       "<p>5 rows × 25 columns</p>\n",
       "</div>"
      ],
      "text/plain": [
       "      station        Date  Present_Tmax  Present_Tmin  LDAPS_RHmin  \\\n",
       "285      11.0  2013-07-11          25.9          24.5    84.183594   \n",
       "7323     24.0  2017-08-13          28.7          25.5    61.201973   \n",
       "2185     11.0  2014-07-25          34.4          22.1    53.896526   \n",
       "202       3.0  2013-07-08          26.1          23.2    72.960640   \n",
       "1494     20.0  2013-08-28          30.4          22.1    73.714874   \n",
       "\n",
       "      LDAPS_RHmax  LDAPS_Tmax_lapse  LDAPS_Tmin_lapse   LDAPS_WS   LDAPS_LH  \\\n",
       "285     94.588783         25.493900         23.203183   7.985504  43.063029   \n",
       "7323    75.511261         26.858758         23.288472  10.217053  49.123382   \n",
       "2185    86.164993         27.338995         23.990024  16.201483  96.824559   \n",
       "202     95.537552         28.342721         23.582054   8.952834  23.765362   \n",
       "1494    96.804031         26.235513         22.913159  13.912146  40.663272   \n",
       "\n",
       "      ...  LDAPS_PPT2  LDAPS_PPT3  LDAPS_PPT4      lat      lon       DEM  \\\n",
       "285   ...    2.398282    4.213698    0.869906  37.5372  127.085   28.7000   \n",
       "7323  ...    0.000000    0.000000    0.007756  37.5237  126.909   17.2956   \n",
       "2185  ...    0.245914    0.000000    0.000000  37.5372  127.085   28.7000   \n",
       "202   ...    0.000000    0.020585    0.000000  37.5776  127.058   33.3068   \n",
       "1494  ...    0.210967    7.667776    0.000000  37.6181  127.004  146.5540   \n",
       "\n",
       "       Slope  Solar radiation  Next_Tmax  Next_Tmin  \n",
       "285   0.6233      5773.572754       25.4       23.7  \n",
       "7323  0.2223      5047.767578       27.6       24.0  \n",
       "2185  0.6233      5555.624512       28.2       21.6  \n",
       "202   0.2661      5804.364746       27.2       23.4  \n",
       "1494  4.7296      4632.916992       26.8       22.4  \n",
       "\n",
       "[5 rows x 25 columns]"
      ]
     },
     "execution_count": 5,
     "metadata": {},
     "output_type": "execute_result"
    }
   ],
   "source": [
    "main_df = pd.read_csv('Bias_correction_ucl.csv')\n",
    "main_df.sample(5)"
   ]
  },
  {
   "cell_type": "code",
   "execution_count": 6,
   "id": "5ddc0a5a-e0c8-4a0c-8ed0-cfc9c511e363",
   "metadata": {},
   "outputs": [
    {
     "data": {
      "text/plain": [
       "Index(['station', 'Date', 'Present_Tmax', 'Present_Tmin', 'LDAPS_RHmin',\n",
       "       'LDAPS_RHmax', 'LDAPS_Tmax_lapse', 'LDAPS_Tmin_lapse', 'LDAPS_WS',\n",
       "       'LDAPS_LH', 'LDAPS_CC1', 'LDAPS_CC2', 'LDAPS_CC3', 'LDAPS_CC4',\n",
       "       'LDAPS_PPT1', 'LDAPS_PPT2', 'LDAPS_PPT3', 'LDAPS_PPT4', 'lat', 'lon',\n",
       "       'DEM', 'Slope', 'Solar radiation', 'Next_Tmax', 'Next_Tmin'],\n",
       "      dtype='object')"
      ]
     },
     "execution_count": 6,
     "metadata": {},
     "output_type": "execute_result"
    }
   ],
   "source": [
    "cols = main_df.columns\n",
    "cols"
   ]
  },
  {
   "cell_type": "code",
   "execution_count": 7,
   "id": "90c4d537-8b8e-4482-b828-516a97b5da9d",
   "metadata": {},
   "outputs": [],
   "source": [
    "main_df.drop( columns= ['station', 'Date', 'LDAPS_CC2', 'LDAPS_CC3', 'LDAPS_CC4', 'LDAPS_PPT1', 'LDAPS_PPT2', 'LDAPS_PPT3', 'LDAPS_PPT4', 'lat', 'lon'] ,inplace=True)"
   ]
  },
  {
   "cell_type": "code",
   "execution_count": 9,
   "id": "d1aebae8-fad3-4ebe-92dd-8645c0441287",
   "metadata": {},
   "outputs": [],
   "source": [
    "main_df.rename(columns = {'Present_Tmax': 'PTmax', \n",
    "                    'Present_Tmin': 'PTmin', \n",
    "                     'LDAPS_RHmin': 'RHmin', # relative humidity min\n",
    "                     'LDAPS_RHmax': 'RHmax', # max\n",
    "                     'LDAPS_Tmax_lapse': 'TmaxL', # max lapse temp\n",
    "                    'LDAPS_Tmin_lapse': 'TminL',\n",
    "                     'LDAPS_WS': 'WS', \n",
    "                     'LDAPS_LH': 'LH',\n",
    "                     'LDAPS_CC1': 'CC'}, inplace=True)"
   ]
  },
  {
   "cell_type": "code",
   "execution_count": 10,
   "id": "df4daf93-8654-4e44-ba63-4837d29d9be6",
   "metadata": {},
   "outputs": [
    {
     "data": {
      "text/plain": [
       "Index(['PTmax', 'PTmin', 'RHmin', 'RHmax', 'TmaxL', 'TminL', 'WS', 'LH', 'CC',\n",
       "       'DEM', 'Slope', 'Solar radiation', 'Next_Tmax', 'Next_Tmin'],\n",
       "      dtype='object')"
      ]
     },
     "execution_count": 10,
     "metadata": {},
     "output_type": "execute_result"
    }
   ],
   "source": [
    "main_df.columns"
   ]
  },
  {
   "cell_type": "code",
   "execution_count": 11,
   "id": "32ea8cf3-7532-49ec-9751-fe45e4fc71f9",
   "metadata": {},
   "outputs": [],
   "source": [
    "inputList = ['PTmax', 'PTmin', 'RHmin', 'RHmax', 'TmaxL', 'TminL', 'WS', 'LH', 'CC','DEM', 'Slope', 'Solar radiation']\n",
    "input = main_df[inputList]\n",
    "output = main_df[['Next_Tmax']]"
   ]
  },
  {
   "cell_type": "code",
   "execution_count": 15,
   "id": "e6aab3ba-bba8-41d9-8834-ab902dc2b8f1",
   "metadata": {},
   "outputs": [
    {
     "data": {
      "text/plain": [
       "PTmax              70\n",
       "PTmin              70\n",
       "RHmin              75\n",
       "RHmax              75\n",
       "TmaxL              75\n",
       "TminL              75\n",
       "WS                 75\n",
       "LH                 75\n",
       "CC                 75\n",
       "DEM                 0\n",
       "Slope               0\n",
       "Solar radiation     0\n",
       "dtype: int64"
      ]
     },
     "execution_count": 15,
     "metadata": {},
     "output_type": "execute_result"
    }
   ],
   "source": [
    "input.isnull().sum()"
   ]
  },
  {
   "cell_type": "code",
   "execution_count": 16,
   "id": "5eb7a04c-89ac-4add-9cf5-1179c348d3a7",
   "metadata": {},
   "outputs": [
    {
     "data": {
      "text/plain": [
       "(7752, 12)"
      ]
     },
     "execution_count": 16,
     "metadata": {},
     "output_type": "execute_result"
    }
   ],
   "source": [
    "input.shape"
   ]
  },
  {
   "cell_type": "code",
   "execution_count": 18,
   "id": "0a2b55c7-5269-41db-8dea-9b2f79bd46bb",
   "metadata": {},
   "outputs": [
    {
     "data": {
      "text/html": [
       "<div>\n",
       "<style scoped>\n",
       "    .dataframe tbody tr th:only-of-type {\n",
       "        vertical-align: middle;\n",
       "    }\n",
       "\n",
       "    .dataframe tbody tr th {\n",
       "        vertical-align: top;\n",
       "    }\n",
       "\n",
       "    .dataframe thead th {\n",
       "        text-align: right;\n",
       "    }\n",
       "</style>\n",
       "<table border=\"1\" class=\"dataframe\">\n",
       "  <thead>\n",
       "    <tr style=\"text-align: right;\">\n",
       "      <th></th>\n",
       "      <th>Next_Tmax</th>\n",
       "    </tr>\n",
       "  </thead>\n",
       "  <tbody>\n",
       "    <tr>\n",
       "      <th>0</th>\n",
       "      <td>29.1</td>\n",
       "    </tr>\n",
       "    <tr>\n",
       "      <th>1</th>\n",
       "      <td>30.5</td>\n",
       "    </tr>\n",
       "    <tr>\n",
       "      <th>2</th>\n",
       "      <td>31.1</td>\n",
       "    </tr>\n",
       "    <tr>\n",
       "      <th>3</th>\n",
       "      <td>31.7</td>\n",
       "    </tr>\n",
       "    <tr>\n",
       "      <th>4</th>\n",
       "      <td>31.2</td>\n",
       "    </tr>\n",
       "    <tr>\n",
       "      <th>...</th>\n",
       "      <td>...</td>\n",
       "    </tr>\n",
       "    <tr>\n",
       "      <th>7747</th>\n",
       "      <td>28.3</td>\n",
       "    </tr>\n",
       "    <tr>\n",
       "      <th>7748</th>\n",
       "      <td>28.6</td>\n",
       "    </tr>\n",
       "    <tr>\n",
       "      <th>7749</th>\n",
       "      <td>27.8</td>\n",
       "    </tr>\n",
       "    <tr>\n",
       "      <th>7750</th>\n",
       "      <td>17.4</td>\n",
       "    </tr>\n",
       "    <tr>\n",
       "      <th>7751</th>\n",
       "      <td>38.9</td>\n",
       "    </tr>\n",
       "  </tbody>\n",
       "</table>\n",
       "<p>7752 rows × 1 columns</p>\n",
       "</div>"
      ],
      "text/plain": [
       "      Next_Tmax\n",
       "0          29.1\n",
       "1          30.5\n",
       "2          31.1\n",
       "3          31.7\n",
       "4          31.2\n",
       "...         ...\n",
       "7747       28.3\n",
       "7748       28.6\n",
       "7749       27.8\n",
       "7750       17.4\n",
       "7751       38.9\n",
       "\n",
       "[7752 rows x 1 columns]"
      ]
     },
     "execution_count": 18,
     "metadata": {},
     "output_type": "execute_result"
    }
   ],
   "source": [
    "output"
   ]
  },
  {
   "cell_type": "code",
   "execution_count": 21,
   "id": "1d4e22c7-5706-4df7-bcd0-d770740e7943",
   "metadata": {},
   "outputs": [
    {
     "data": {
      "text/plain": [
       "Next_Tmax    0\n",
       "dtype: int64"
      ]
     },
     "execution_count": 21,
     "metadata": {},
     "output_type": "execute_result"
    }
   ],
   "source": [
    "output = output.fillna(output.median())\n",
    "output.shape\n",
    "output.duplicated().sum()"
   ]
  },
  {
   "cell_type": "code",
   "execution_count": 22,
   "id": "5c145a51-99f1-413b-aad0-182eefad8e40",
   "metadata": {},
   "outputs": [
    {
     "data": {
      "text/html": [
       "<div>\n",
       "<style scoped>\n",
       "    .dataframe tbody tr th:only-of-type {\n",
       "        vertical-align: middle;\n",
       "    }\n",
       "\n",
       "    .dataframe tbody tr th {\n",
       "        vertical-align: top;\n",
       "    }\n",
       "\n",
       "    .dataframe thead th {\n",
       "        text-align: right;\n",
       "    }\n",
       "</style>\n",
       "<table border=\"1\" class=\"dataframe\">\n",
       "  <thead>\n",
       "    <tr style=\"text-align: right;\">\n",
       "      <th></th>\n",
       "      <th>PTmax</th>\n",
       "      <th>PTmin</th>\n",
       "      <th>RHmin</th>\n",
       "      <th>RHmax</th>\n",
       "      <th>TmaxL</th>\n",
       "      <th>TminL</th>\n",
       "      <th>WS</th>\n",
       "      <th>LH</th>\n",
       "      <th>CC</th>\n",
       "      <th>DEM</th>\n",
       "      <th>Slope</th>\n",
       "      <th>Solar radiation</th>\n",
       "    </tr>\n",
       "  </thead>\n",
       "  <tbody>\n",
       "    <tr>\n",
       "      <th>count</th>\n",
       "      <td>7682.000000</td>\n",
       "      <td>7682.000000</td>\n",
       "      <td>7677.000000</td>\n",
       "      <td>7677.000000</td>\n",
       "      <td>7677.000000</td>\n",
       "      <td>7677.000000</td>\n",
       "      <td>7677.000000</td>\n",
       "      <td>7677.000000</td>\n",
       "      <td>7677.000000</td>\n",
       "      <td>7752.000000</td>\n",
       "      <td>7752.000000</td>\n",
       "      <td>7752.000000</td>\n",
       "    </tr>\n",
       "    <tr>\n",
       "      <th>mean</th>\n",
       "      <td>29.768211</td>\n",
       "      <td>23.225059</td>\n",
       "      <td>56.759372</td>\n",
       "      <td>88.374804</td>\n",
       "      <td>29.613447</td>\n",
       "      <td>23.512589</td>\n",
       "      <td>7.097875</td>\n",
       "      <td>62.505019</td>\n",
       "      <td>0.368774</td>\n",
       "      <td>61.867972</td>\n",
       "      <td>1.257048</td>\n",
       "      <td>5341.502803</td>\n",
       "    </tr>\n",
       "    <tr>\n",
       "      <th>std</th>\n",
       "      <td>2.969999</td>\n",
       "      <td>2.413961</td>\n",
       "      <td>14.668111</td>\n",
       "      <td>7.192004</td>\n",
       "      <td>2.947191</td>\n",
       "      <td>2.345347</td>\n",
       "      <td>2.183836</td>\n",
       "      <td>33.730589</td>\n",
       "      <td>0.262458</td>\n",
       "      <td>54.279780</td>\n",
       "      <td>1.370444</td>\n",
       "      <td>429.158867</td>\n",
       "    </tr>\n",
       "    <tr>\n",
       "      <th>min</th>\n",
       "      <td>20.000000</td>\n",
       "      <td>11.300000</td>\n",
       "      <td>19.794666</td>\n",
       "      <td>58.936283</td>\n",
       "      <td>17.624954</td>\n",
       "      <td>14.272646</td>\n",
       "      <td>2.882580</td>\n",
       "      <td>-13.603212</td>\n",
       "      <td>0.000000</td>\n",
       "      <td>12.370000</td>\n",
       "      <td>0.098475</td>\n",
       "      <td>4329.520508</td>\n",
       "    </tr>\n",
       "    <tr>\n",
       "      <th>25%</th>\n",
       "      <td>27.800000</td>\n",
       "      <td>21.700000</td>\n",
       "      <td>45.963543</td>\n",
       "      <td>84.222862</td>\n",
       "      <td>27.673499</td>\n",
       "      <td>22.089739</td>\n",
       "      <td>5.678705</td>\n",
       "      <td>37.266753</td>\n",
       "      <td>0.146654</td>\n",
       "      <td>28.700000</td>\n",
       "      <td>0.271300</td>\n",
       "      <td>4999.018555</td>\n",
       "    </tr>\n",
       "    <tr>\n",
       "      <th>50%</th>\n",
       "      <td>29.900000</td>\n",
       "      <td>23.400000</td>\n",
       "      <td>55.039024</td>\n",
       "      <td>89.793480</td>\n",
       "      <td>29.703426</td>\n",
       "      <td>23.760199</td>\n",
       "      <td>6.547470</td>\n",
       "      <td>56.865482</td>\n",
       "      <td>0.315697</td>\n",
       "      <td>45.716000</td>\n",
       "      <td>0.618000</td>\n",
       "      <td>5436.345215</td>\n",
       "    </tr>\n",
       "    <tr>\n",
       "      <th>75%</th>\n",
       "      <td>32.000000</td>\n",
       "      <td>24.900000</td>\n",
       "      <td>67.190056</td>\n",
       "      <td>93.743629</td>\n",
       "      <td>31.710450</td>\n",
       "      <td>25.152909</td>\n",
       "      <td>8.032276</td>\n",
       "      <td>84.223616</td>\n",
       "      <td>0.575489</td>\n",
       "      <td>59.832400</td>\n",
       "      <td>1.767800</td>\n",
       "      <td>5728.316406</td>\n",
       "    </tr>\n",
       "    <tr>\n",
       "      <th>max</th>\n",
       "      <td>37.600000</td>\n",
       "      <td>29.900000</td>\n",
       "      <td>98.524734</td>\n",
       "      <td>100.000153</td>\n",
       "      <td>38.542255</td>\n",
       "      <td>29.619342</td>\n",
       "      <td>21.857621</td>\n",
       "      <td>213.414006</td>\n",
       "      <td>0.967277</td>\n",
       "      <td>212.335000</td>\n",
       "      <td>5.178230</td>\n",
       "      <td>5992.895996</td>\n",
       "    </tr>\n",
       "  </tbody>\n",
       "</table>\n",
       "</div>"
      ],
      "text/plain": [
       "             PTmax        PTmin        RHmin        RHmax        TmaxL  \\\n",
       "count  7682.000000  7682.000000  7677.000000  7677.000000  7677.000000   \n",
       "mean     29.768211    23.225059    56.759372    88.374804    29.613447   \n",
       "std       2.969999     2.413961    14.668111     7.192004     2.947191   \n",
       "min      20.000000    11.300000    19.794666    58.936283    17.624954   \n",
       "25%      27.800000    21.700000    45.963543    84.222862    27.673499   \n",
       "50%      29.900000    23.400000    55.039024    89.793480    29.703426   \n",
       "75%      32.000000    24.900000    67.190056    93.743629    31.710450   \n",
       "max      37.600000    29.900000    98.524734   100.000153    38.542255   \n",
       "\n",
       "             TminL           WS           LH           CC          DEM  \\\n",
       "count  7677.000000  7677.000000  7677.000000  7677.000000  7752.000000   \n",
       "mean     23.512589     7.097875    62.505019     0.368774    61.867972   \n",
       "std       2.345347     2.183836    33.730589     0.262458    54.279780   \n",
       "min      14.272646     2.882580   -13.603212     0.000000    12.370000   \n",
       "25%      22.089739     5.678705    37.266753     0.146654    28.700000   \n",
       "50%      23.760199     6.547470    56.865482     0.315697    45.716000   \n",
       "75%      25.152909     8.032276    84.223616     0.575489    59.832400   \n",
       "max      29.619342    21.857621   213.414006     0.967277   212.335000   \n",
       "\n",
       "             Slope  Solar radiation  \n",
       "count  7752.000000      7752.000000  \n",
       "mean      1.257048      5341.502803  \n",
       "std       1.370444       429.158867  \n",
       "min       0.098475      4329.520508  \n",
       "25%       0.271300      4999.018555  \n",
       "50%       0.618000      5436.345215  \n",
       "75%       1.767800      5728.316406  \n",
       "max       5.178230      5992.895996  "
      ]
     },
     "execution_count": 22,
     "metadata": {},
     "output_type": "execute_result"
    }
   ],
   "source": [
    "input[['PTmax', 'PTmin', 'RHmin', 'RHmax', 'TmaxL', 'TminL', 'WS', 'LH', 'CC', 'DEM', 'Slope', 'Solar radiation']].describe()"
   ]
  },
  {
   "cell_type": "code",
   "execution_count": 23,
   "id": "fd7e8f90-33a3-4d97-ac72-fa247ebee65b",
   "metadata": {},
   "outputs": [],
   "source": [
    "from sklearn.model_selection import train_test_split \n",
    "from sklearn.linear_model import LinearRegression"
   ]
  },
  {
   "cell_type": "code",
   "execution_count": 24,
   "id": "12ec49de-4e06-46b9-b823-2380174bc867",
   "metadata": {},
   "outputs": [],
   "source": [
    "x_train, x_test, y_train, y_test= train_test_split(input,output, test_size=0.3, random_state=0)"
   ]
  },
  {
   "cell_type": "code",
   "execution_count": 27,
   "id": "5e23d944-ee97-40be-80aa-53b019817762",
   "metadata": {},
   "outputs": [],
   "source": [
    "mv = np.nanmedian(y_train)\n",
    "y_train_filled = np.nan_to_num(y_train, nan=mv)"
   ]
  },
  {
   "cell_type": "code",
   "execution_count": 28,
   "id": "2afb30d0-6ad0-4642-ac6b-85d2342c8330",
   "metadata": {},
   "outputs": [
    {
     "data": {
      "text/plain": [
       "5426"
      ]
     },
     "execution_count": 28,
     "metadata": {},
     "output_type": "execute_result"
    }
   ],
   "source": [
    "y_train_filled.size"
   ]
  },
  {
   "cell_type": "code",
   "execution_count": 29,
   "id": "7713dec6-3689-4e9d-bde6-c50eebefb61b",
   "metadata": {},
   "outputs": [],
   "source": [
    "mvX = np.nanmedian(x_train)\n",
    "x_train_filled = np.nan_to_num(x_train, nan=mvX)"
   ]
  },
  {
   "cell_type": "code",
   "execution_count": 30,
   "id": "c6af58b9-9690-480c-85d3-24aab2760367",
   "metadata": {},
   "outputs": [
    {
     "data": {
      "text/html": [
       "<style>#sk-container-id-1 {color: black;}#sk-container-id-1 pre{padding: 0;}#sk-container-id-1 div.sk-toggleable {background-color: white;}#sk-container-id-1 label.sk-toggleable__label {cursor: pointer;display: block;width: 100%;margin-bottom: 0;padding: 0.3em;box-sizing: border-box;text-align: center;}#sk-container-id-1 label.sk-toggleable__label-arrow:before {content: \"▸\";float: left;margin-right: 0.25em;color: #696969;}#sk-container-id-1 label.sk-toggleable__label-arrow:hover:before {color: black;}#sk-container-id-1 div.sk-estimator:hover label.sk-toggleable__label-arrow:before {color: black;}#sk-container-id-1 div.sk-toggleable__content {max-height: 0;max-width: 0;overflow: hidden;text-align: left;background-color: #f0f8ff;}#sk-container-id-1 div.sk-toggleable__content pre {margin: 0.2em;color: black;border-radius: 0.25em;background-color: #f0f8ff;}#sk-container-id-1 input.sk-toggleable__control:checked~div.sk-toggleable__content {max-height: 200px;max-width: 100%;overflow: auto;}#sk-container-id-1 input.sk-toggleable__control:checked~label.sk-toggleable__label-arrow:before {content: \"▾\";}#sk-container-id-1 div.sk-estimator input.sk-toggleable__control:checked~label.sk-toggleable__label {background-color: #d4ebff;}#sk-container-id-1 div.sk-label input.sk-toggleable__control:checked~label.sk-toggleable__label {background-color: #d4ebff;}#sk-container-id-1 input.sk-hidden--visually {border: 0;clip: rect(1px 1px 1px 1px);clip: rect(1px, 1px, 1px, 1px);height: 1px;margin: -1px;overflow: hidden;padding: 0;position: absolute;width: 1px;}#sk-container-id-1 div.sk-estimator {font-family: monospace;background-color: #f0f8ff;border: 1px dotted black;border-radius: 0.25em;box-sizing: border-box;margin-bottom: 0.5em;}#sk-container-id-1 div.sk-estimator:hover {background-color: #d4ebff;}#sk-container-id-1 div.sk-parallel-item::after {content: \"\";width: 100%;border-bottom: 1px solid gray;flex-grow: 1;}#sk-container-id-1 div.sk-label:hover label.sk-toggleable__label {background-color: #d4ebff;}#sk-container-id-1 div.sk-serial::before {content: \"\";position: absolute;border-left: 1px solid gray;box-sizing: border-box;top: 0;bottom: 0;left: 50%;z-index: 0;}#sk-container-id-1 div.sk-serial {display: flex;flex-direction: column;align-items: center;background-color: white;padding-right: 0.2em;padding-left: 0.2em;position: relative;}#sk-container-id-1 div.sk-item {position: relative;z-index: 1;}#sk-container-id-1 div.sk-parallel {display: flex;align-items: stretch;justify-content: center;background-color: white;position: relative;}#sk-container-id-1 div.sk-item::before, #sk-container-id-1 div.sk-parallel-item::before {content: \"\";position: absolute;border-left: 1px solid gray;box-sizing: border-box;top: 0;bottom: 0;left: 50%;z-index: -1;}#sk-container-id-1 div.sk-parallel-item {display: flex;flex-direction: column;z-index: 1;position: relative;background-color: white;}#sk-container-id-1 div.sk-parallel-item:first-child::after {align-self: flex-end;width: 50%;}#sk-container-id-1 div.sk-parallel-item:last-child::after {align-self: flex-start;width: 50%;}#sk-container-id-1 div.sk-parallel-item:only-child::after {width: 0;}#sk-container-id-1 div.sk-dashed-wrapped {border: 1px dashed gray;margin: 0 0.4em 0.5em 0.4em;box-sizing: border-box;padding-bottom: 0.4em;background-color: white;}#sk-container-id-1 div.sk-label label {font-family: monospace;font-weight: bold;display: inline-block;line-height: 1.2em;}#sk-container-id-1 div.sk-label-container {text-align: center;}#sk-container-id-1 div.sk-container {/* jupyter's `normalize.less` sets `[hidden] { display: none; }` but bootstrap.min.css set `[hidden] { display: none !important; }` so we also need the `!important` here to be able to override the default hidden behavior on the sphinx rendered scikit-learn.org. See: https://github.com/scikit-learn/scikit-learn/issues/21755 */display: inline-block !important;position: relative;}#sk-container-id-1 div.sk-text-repr-fallback {display: none;}</style><div id=\"sk-container-id-1\" class=\"sk-top-container\"><div class=\"sk-text-repr-fallback\"><pre>LinearRegression()</pre><b>In a Jupyter environment, please rerun this cell to show the HTML representation or trust the notebook. <br />On GitHub, the HTML representation is unable to render, please try loading this page with nbviewer.org.</b></div><div class=\"sk-container\" hidden><div class=\"sk-item\"><div class=\"sk-estimator sk-toggleable\"><input class=\"sk-toggleable__control sk-hidden--visually\" id=\"sk-estimator-id-1\" type=\"checkbox\" checked><label for=\"sk-estimator-id-1\" class=\"sk-toggleable__label sk-toggleable__label-arrow\">LinearRegression</label><div class=\"sk-toggleable__content\"><pre>LinearRegression()</pre></div></div></div></div></div>"
      ],
      "text/plain": [
       "LinearRegression()"
      ]
     },
     "execution_count": 30,
     "metadata": {},
     "output_type": "execute_result"
    }
   ],
   "source": [
    "Lr = LinearRegression()\n",
    "Lr.fit(x_train_filled, y_train_filled)"
   ]
  },
  {
   "cell_type": "code",
   "execution_count": 31,
   "id": "03f936da-916f-44ac-a3a7-e540ef159ddb",
   "metadata": {},
   "outputs": [
    {
     "name": "stdout",
     "output_type": "stream",
     "text": [
      "The intercept: [3.65809918] and the coeff is:  [[ 1.51948913e-01  6.36397360e-03 -4.86106280e-03 -4.51046782e-03\n",
      "   6.91245455e-01  1.02777736e-01 -1.54522231e-01  1.05478571e-02\n",
      "   2.48481732e-01 -4.51882787e-03  2.42975138e-01  1.34721587e-06]]\n"
     ]
    }
   ],
   "source": [
    "interc = Lr.intercept_\n",
    "slo = Lr.coef_\n",
    "print('The intercept:', interc, 'and the coeff is: ', slo)"
   ]
  },
  {
   "cell_type": "code",
   "execution_count": null,
   "id": "9b982732-9b5a-4266-be3c-b2f528adfe59",
   "metadata": {},
   "outputs": [],
   "source": []
  }
 ],
 "metadata": {
  "kernelspec": {
   "display_name": "Python 3 (ipykernel)",
   "language": "python",
   "name": "python3"
  },
  "language_info": {
   "codemirror_mode": {
    "name": "ipython",
    "version": 3
   },
   "file_extension": ".py",
   "mimetype": "text/x-python",
   "name": "python",
   "nbconvert_exporter": "python",
   "pygments_lexer": "ipython3",
   "version": "3.11.4"
  }
 },
 "nbformat": 4,
 "nbformat_minor": 5
}
