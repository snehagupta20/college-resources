{
 "cells": [
  {
   "cell_type": "code",
   "execution_count": 1,
   "id": "044ffe89-b390-429b-9459-1a2364b8e7a4",
   "metadata": {},
   "outputs": [
    {
     "name": "stdout",
     "output_type": "stream",
     "text": [
      "heelo world\n"
     ]
    }
   ],
   "source": [
    "print(\"heelo world\");\n"
   ]
  },
  {
   "cell_type": "code",
   "execution_count": 2,
   "id": "9f1e2406-f54c-4210-be68-93b05aa2fc02",
   "metadata": {},
   "outputs": [
    {
     "ename": "SyntaxError",
     "evalue": "invalid syntax (3269804229.py, line 1)",
     "output_type": "error",
     "traceback": [
      "\u001b[1;36m  Cell \u001b[1;32mIn[2], line 1\u001b[1;36m\u001b[0m\n\u001b[1;33m    print(\"hello wokr\")print(\"jdhdj\")\u001b[0m\n\u001b[1;37m                       ^\u001b[0m\n\u001b[1;31mSyntaxError\u001b[0m\u001b[1;31m:\u001b[0m invalid syntax\n"
     ]
    }
   ],
   "source": [
    "print(\"hello wokr\")print(\"jdhdj\")"
   ]
  },
  {
   "cell_type": "code",
   "execution_count": 3,
   "id": "f8176fdc-ab8e-497c-86cc-939b3f332f7b",
   "metadata": {},
   "outputs": [
    {
     "name": "stdout",
     "output_type": "stream",
     "text": [
      "hello wokr\n",
      "jdhdj\n"
     ]
    }
   ],
   "source": [
    "print(\"hello wokr\")\n",
    "print(\"jdhdj\")"
   ]
  },
  {
   "cell_type": "code",
   "execution_count": null,
   "id": "03989544-32f4-44a2-a2ed-bf810dfd87a3",
   "metadata": {},
   "outputs": [],
   "source": []
  }
 ],
 "metadata": {
  "kernelspec": {
   "display_name": "Python 3 (ipykernel)",
   "language": "python",
   "name": "python3"
  },
  "language_info": {
   "codemirror_mode": {
    "name": "ipython",
    "version": 3
   },
   "file_extension": ".py",
   "mimetype": "text/x-python",
   "name": "python",
   "nbconvert_exporter": "python",
   "pygments_lexer": "ipython3",
   "version": "3.11.1"
  }
 },
 "nbformat": 4,
 "nbformat_minor": 5
}
