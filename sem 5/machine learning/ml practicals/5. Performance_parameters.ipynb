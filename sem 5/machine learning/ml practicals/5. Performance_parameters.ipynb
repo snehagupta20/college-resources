{
  "nbformat": 4,
  "nbformat_minor": 0,
  "metadata": {
    "colab": {
      "provenance": []
    },
    "kernelspec": {
      "name": "python3",
      "display_name": "Python 3"
    },
    "language_info": {
      "name": "python"
    }
  },
  "cells": [
    {
      "cell_type": "markdown",
      "source": [
        "# **This lab is for understanding various performace parameters taught during the class, you need to add all the parameters and variations.**\n",
        "\n"
      ],
      "metadata": {
        "id": "kAndTnGg9gbd"
      }
    },
    {
      "cell_type": "markdown",
      "source": [
        "Importing the Dependencies"
      ],
      "metadata": {
        "id": "xgd0kvExWcAm"
      }
    },
    {
      "cell_type": "code",
      "execution_count": null,
      "metadata": {
        "id": "Yg0dYZpxUnnH"
      },
      "outputs": [],
      "source": [
        "import numpy as np\n",
        "import pandas as pd\n",
        "from sklearn.model_selection import train_test_split\n",
        "from sklearn.linear_model import LogisticRegression"
      ]
    },
    {
      "cell_type": "markdown",
      "source": [
        "Data Collection & Processing"
      ],
      "metadata": {
        "id": "6C-ri2RfZINI"
      }
    },
    {
      "cell_type": "code",
      "metadata": {
        "id": "0q-3-LkQrREV"
      },
      "source": [
        "# loading the csv data to a Pandas DataFrame\n",
        "heart_data = pd.read_csv('heart.csv')"
      ],
      "execution_count": null,
      "outputs": []
    },
    {
      "cell_type": "code",
      "metadata": {
        "id": "M8dQxSTqriWD"
      },
      "source": [
        "# print first 5 rows of the dataset\n",
        "heart_data.head()"
      ],
      "execution_count": null,
      "outputs": []
    },
    {
      "cell_type": "code",
      "metadata": {
        "id": "Fx_aCZDgrqdR"
      },
      "source": [
        "# print last 5 rows of the dataset\n",
        "heart_data.tail()"
      ],
      "execution_count": null,
      "outputs": []
    },
    {
      "cell_type": "code",
      "metadata": {
        "id": "8nX1tIzbrz0u"
      },
      "source": [
        "# number of rows and columns in the dataset\n",
        "heart_data.shape"
      ],
      "execution_count": null,
      "outputs": []
    },
    {
      "cell_type": "code",
      "metadata": {
        "id": "7_xTcw1Sr6aJ"
      },
      "source": [
        "# getting some info about the data\n",
        "heart_data.info()"
      ],
      "execution_count": null,
      "outputs": []
    },
    {
      "cell_type": "code",
      "metadata": {
        "id": "GjHtW31rsGlb"
      },
      "source": [
        "# checking for missing values\n",
        "heart_data.isnull().sum()"
      ],
      "execution_count": null,
      "outputs": []
    },
    {
      "cell_type": "code",
      "metadata": {
        "id": "OHmcP7DJsSEP"
      },
      "source": [
        "# statistical measures about the data\n",
        "heart_data.describe()"
      ],
      "execution_count": null,
      "outputs": []
    },
    {
      "cell_type": "code",
      "metadata": {
        "id": "4InaOSIUsfWP"
      },
      "source": [
        "# checking the distribution of Target Variable\n",
        "heart_data['target'].value_counts()"
      ],
      "execution_count": null,
      "outputs": []
    },
    {
      "cell_type": "markdown",
      "metadata": {
        "id": "aSOBu4qDtJy5"
      },
      "source": [
        "1 --> Defective Heart\n",
        "\n",
        "0 --> Healthy Heart"
      ]
    },
    {
      "cell_type": "markdown",
      "metadata": {
        "id": "tW8i4igjtPRC"
      },
      "source": [
        "Splitting the Features and Target"
      ]
    },
    {
      "cell_type": "code",
      "metadata": {
        "id": "Q6yfbswrs7m3"
      },
      "source": [
        "X = heart_data.drop(columns='target', axis=1)\n",
        "Y = heart_data['target']"
      ],
      "execution_count": null,
      "outputs": []
    },
    {
      "cell_type": "code",
      "metadata": {
        "id": "XJoCp4ZKtpZy"
      },
      "source": [
        "print(X)"
      ],
      "execution_count": null,
      "outputs": []
    },
    {
      "cell_type": "code",
      "metadata": {
        "id": "nukuj-YItq1w"
      },
      "source": [
        "print(Y)"
      ],
      "execution_count": null,
      "outputs": []
    },
    {
      "cell_type": "markdown",
      "metadata": {
        "id": "_EcjSE3Et18n"
      },
      "source": [
        "Splitting the Data into Training data & Test Data"
      ]
    },
    {
      "cell_type": "code",
      "metadata": {
        "id": "a-UUfRUxtuga"
      },
      "source": [
        "X_train, X_test, Y_train, Y_test = train_test_split(X, Y, test_size=0.2, stratify=Y, random_state=2)"
      ],
      "execution_count": null,
      "outputs": []
    },
    {
      "cell_type": "code",
      "metadata": {
        "id": "x7PrjC6zuf6X"
      },
      "source": [
        "print(X.shape, X_train.shape, X_test.shape)"
      ],
      "execution_count": null,
      "outputs": []
    },
    {
      "cell_type": "markdown",
      "metadata": {
        "id": "beSkZmpVuvn9"
      },
      "source": [
        "Model Training"
      ]
    },
    {
      "cell_type": "code",
      "metadata": {
        "id": "4-Md74FYuqNL"
      },
      "source": [
        "model = LogisticRegression(max_iter=1000)"
      ],
      "execution_count": null,
      "outputs": []
    },
    {
      "cell_type": "code",
      "metadata": {
        "id": "kCdHYxGUu7XD"
      },
      "source": [
        "# training the LogisticRegression model with Training data\n",
        "model.fit(X_train, Y_train)"
      ],
      "execution_count": null,
      "outputs": []
    },
    {
      "cell_type": "markdown",
      "metadata": {
        "id": "ZYIw8Gi9vXfU"
      },
      "source": [
        "Model Evaluation"
      ]
    },
    {
      "cell_type": "markdown",
      "metadata": {
        "id": "wmxAekfZvZa9"
      },
      "source": [
        "**Accuracy Score**\n",
        "\n",
        "It is most common performance metric for classification algorithms. It may be defined as the number of correct predictions made as a ratio of all predictions made. We can easily calculate it by confusion matrix with the help of following formula −\n",
        "\n",
        "![image.png](data:image/png;base64,iVBORw0KGgoAAAANSUhEUgAAAR4AAABMCAYAAAC7+NieAAAQsUlEQVR4Ae1df0/byBZ9HzoIohISIauylgi3ompQLRQB2o1KVFpetFBKCwXKK0+wFDX0AUUFVdZCZaF8hfN0xzP2xHYgToITlvsHSus4nl9njs/cuffOvxqNBviP+4AxwBhIEwP/SrMwLovBzRhgDBAGmHhY8bHiZQykjgEmHgZd6qBj1cOqh4mHiYeJhzGQOgaYeBh0qYOOFQ8rHiYeJh4mHsZA6hhg4mHQpQ46VjyseJh4mHiYeBgDqWOAiYdBlzroWPGw4mHiYeJh4mEMpI4BJh4GXeqgY8XDioeJh4mHiYcxkDoGmHgYdKmDjhUPKx4mHiYeJh7GQOoYYOJh0KUOOlY8rHiYeJh4mHgYA6ljgImHQZc66FjxsOJh4mHiYeJhDKSOASYeBl3qoGPFw4qHiYeJp2fEc1AtIj9utPFXwtoPNfkusDZtID+WQ2Yoi8xwLvj9oywyWQOl2iGca3V/7z87qvfpMqxxA6PZrFfv4jLONSwdvDQwMiy/ozZNLuNY+/6hky8TD4OhN8RzvY/5XBYT1UOcX7rimc67KTEpR+f3ZRkunHc2MkNlbIeJ5FPZm8D2DlxtTJx1uj+L0Zndpus9m7hd1dvFxrQklyED1XqIFL8uYDQ3h8+/Qte19vWsHffsmUw892zABhaof/2BUXMJ3zVC2ba9SVna8ohI1P1sGebjJXwP9Xu9agiCmXjrNBMh3U9KaKiMz6HfxPbFj1VMFJcjz4+9l57XVb33UR62YM+You4js4pgPaIRxBsi0pb1aKdt/6B7mHj+QYPZT1Af/F5AM2kcCgWUGbKw8lN749NEt3eayaXhYO0pkYuJ18favTQ2u1IJjS+grpFay7a2ILZW93dV7/oi8o+XcExkJ8jRxoambj7PZPFs/SrU1lD7Hij+mHge6MC3moidXXfxfW8fx5fapDpdgkGTkSamRhju6T72jkOT8XoHNt2b+wN72r1Ul735gqeEamftTeBExNNdvc//tOAtI11sv/DU3cSfF7KeR6iOF/H6VOsTxpo/hkw8DAYfDJ2RTvzEitp34u8TZZIKIuJ5tolLfzxcOFtlcT0/u9O+cTkR8UTr1H69PfuOr2j2ZBvGF1GnNlA9Yoi0l318n5/FxOMDPQrC+zyw/a47LTPIKNxk32nR19/fSBvJuAXryZT4mzCLsOxFbNSdZEblLomn/XrTUrKI2pnCzQmqBrU5h/J/G3A/2siwfaflS42Jp8Vk6PfEvd/lt7DvxPa1su8UML+nJnF7n+7XVZRn55r/XlgYzRZRCl+fXUXdve25CepNS8mQ3cl5awmyzUxvYns2G7J53Vb2w/qeiSd2MjwsEPSc5Eh10NIpNDFjy7nehU3+LsNlbN9KDG2MSzeKJ0G9xZJsZrf5jf5rByXhu5PDSDbGUM5Y8/uLiYfB4IMhlhg66J/27SRyO5tIanIVTgdlRercBfEkqXerHStlDI8zlEfq2ov23tNnMPHc04EbZBArO4lveL2hj7/XimJ5Yiye9IYAuyCetut9uQM7Z6L6LUaBHS96u3lNhvKY+27ok0Ee217VrXfE82sf5bEsjDdtbns+8I7v1QAOynPc/8x5oQ4FGfpAKiZbENfMxaMIqZy/K4nv/LACutdYwEG3uEhIPMnqfYLaZCgU4uVhqG0OVibZvnMbLntGPPWqtzORCa97uwUS/z4EbH573gjqhMRz47MYe3eGvd4Qz+mSdGvPii1EHkwmh75h4NrFpXOVbAueCebOCKYVDnpAPLQdasB+s+B7qobjcFoVzteZoBgDDxMDXRPP5Ucb+ZkdOKdyCzUmALDhHGJlxkJ+0kZ5uoj8kyXU/ZgWF+dbC7CEw1gZlmHC3nLQuNxHZbII83EB+ecfgqC/s1VY40VUvzbQuD4Ta+58IYf882Vs1GyYk1OYKBgo7yq3/CvU35ZhFoooPTeRfzaHyuwc1kKRxM6XVdiTBiam51D6zYD15ghu4wp7FQvmbyZGCyWs+c5iZ1h5asB8FbVd8ER6mBOJxz3ZuHdHPGRQflzGtkOF7nrxNuGUB6fLmBjOYuLNCdxrF3uzXuyN/Yl+c4XPMwVkxsrY/ukKN3O6N/P4Ff49XRAE5EUtm37Mi/d/z2PU3bIxOruPY7kzMjqzg/OtMkbIsCltTfVXJjLDU6idUYR0EFNj7wYd9b1mITNs4fU3Fw1pJKdo6PUNWwQ0Ol8XkR/SDOcUHDiUhdlu/BBL+dSlPBNBgO9B7IuuiOfgdwOldZXGQBGPHTiCXR9ifsxzJDsQzmEuDqoWzOll1C8bUH4Tz97JZ5x9QMm0ML++AntyCfVr6YZuLMrI5AvUikEw4V6liMqeI3OiyCjo001UZhex/cP1Uh4MZZF/GSiTvVlyay9hQwU0yjihfOXQswv8OkR1sohS7QDvbAuv6w0cE3kNmX6+FQoOzAy18rQ9wVrEazbkXat9X9niXcBBnBhcp7slrs6JRxqURwpBxjlvazRQJ6RIKF5Hn/jBgKrYFo0EwspAKgv/9782USI10+QjId3cQ7lgAnWjEwRFDGeR8e9VCshAhZZu4fLF/+VvfC9clfxJI9jY37V6XrLrIisftZn/uA/uGAPx+E+G13af0SHxnKFWNFH5qiV4akg1ouVU8dRFFvqyxq/Yj2Uvh4nZOmmTt6zSSEGqk6Yljky/4JOTTwIq7kYjCOcDLMpm52fEo0ROnrv+51A6Br+eYfJryOf2ytPWr+/dDLDfDi6nxYuF+70fGOmIeGiJNDKtpzDwBk95fnr2mwY84gkUkN/AixMc/08STyQp1BWOv3k5TbznBcThRTETETnYeDGF2qlarumqRgFJkopu7JbpNZ+tO9j7vYjX9Zh75AQ9/3bipWiQiaj8KOuWRKfK5aWWP85Mdkx2LTCQnHiEsbiAyhc10YJPRTx+JjqhULw0AQqMzpdFTDyyUDuVUcl6kmz3AhsvDORnd8Wkp+xwmSFJPO4RKiLtgI3ts1VMyFwnXnrNuOWaXEaNLXj5US53YZO9SSiyfcyP2cLOI8rIzgUJqK4dYYcamVz20nhKleURjzSGt7TvBH2h2suf3CeMgSgGEhDPPirjBW/HiNaaw1pya5FxX/8uJ93fXRy/L8N8ZMKaLaM0aeHZ7CoOaAeLmNDZR/WpgXzRRvlFCeZTG9WtM7hq2fNzB7aRw2ixhGe/TaHydhHWI3LDN1H+RAZpFwd/zqHy9khLIKU18mIT9ngOxlMbE6aN2voySuM5jBZMWLUTz5jsnmBtpoiRx1Mo2zYmJksovz2E40dKe1vqowXKFWNgVEQfxxGdVm4LlmcAch8xBjwMJCCeBwga9wKfa8vYUKk6ZdoDyhkcZMpLp1+SHcHS5yNj/lqAMa7FND0KNiDI58o3lJPLw8UHlPRjYrR7abNiZNxG7YvaOe19X5+/t5HXXqgjY1pd1ZE70nVCxXWp+LLm5O7U59rLl2LPys0nZvSCdJLh4Ay1J9rRQUMWav6xQpQZYAF5OkJIGq1HChZq4ZzXd/QSZeK5oWO9bfMsjOoRGtcOtsnnqDAn/ZZ6PwlaArPTI1j6dWSM6FO12aBtDqi+djZF3ho9oFidSGF/0jYsrpWrRAH2rnZdPadnn9LWp7tZyGe7Xz2PfGW3bDTkLqeYrM3J3Wn8LtdLyNAy3VfMPcRJhzgQ2RAlueQJy039doTKWAHlO+3faB8w8TQNQqiDxFKvAPN5GaWiBauyg+++x3Xo3pue0+13ZGfyXQC8ctVE9Y3eVEYoQLLrI2OSHhWjt1O5Pigbnf6dPFXCtwX6kzl0IkWjAZU2QzmENk8abQz2/sBIpwHKcucynJjeK4t2MbXNC9qNzZVhy/O0guTuXl3IZmi2naHhAiuTlpY+VWtPU3/J6x3igDZ5JmbKXkiTbs+kMmint1dJ2OLq3OIaE0+LjmkJ8D7c39kRLCqlaEwmvHaPjAkRWaI+kUb5TAt3CSJOX0VIN4e4ia82LKLuEqFJSm2K7JCG7mkxdsqRNZ7czvD6cbAzK9TDix244eTu4tlnqJkxCq9FuY0G3R88+7b+7QwHpNAIA0Ry3rKq9FFTj9RvTX5x7fXZbXW97XsmnpagSGcAbhsgMqB3dHRML46M6YJ4VAL3wGeqgfqrIuyPFEMnJ5yyJ8gloX6v6Be5tKBwFnKduLGvuiAepR4DBUbuGuRuQWWSR37g0iHUgzh0UDnAaru2pPISqYckxNMhDoRC844NUg69GW0nmVRx+wrtljFIMJeYeBJ01o3AT/E56g0dmah6HZTiaHqbJTwypmPiUWqLVI33dnV/bsLOxZ8zJVwahkKH37nSpjZsyB3MW0DfMfEoR9Ogbu63JZixBELqIVA0enJ3cewy1SGRY2kS4om2vx0cCIWmMKCI3D9umcrXlpE6fu7430w8d9zBd0FWavnRZN8JtUMpjpFujozplHiU2hrKYXTc2yUSO0F+2Ik+iWgpQ0uAHPJF72gb6wllBJiC/WoTdeV6EWpfpF87JR518OBwzsugqHa41GTVy5X2EN/L3U/u7u0WJVcP3RFPOzgQNictmNmLO8xC7MglVmj6uHX3byYeHVj34t/qDR01xAaTUSmO9t9mPT0qRqktzSBORBir0JR9J8Hhd+efFpqPtKGg26cmMoWp6PWXOzi/YVyVatDPwKKlV7Ds0iYYLQlDhKSSu+erO6gVb+hv9wgrWnCwdyyPjYlcDuZ0NIh4pSkcSauD35Z2cECkHig0gY+f2nHLW3MJFVpcPTq7xsTjD2RnHRhM9pR+TyqEtkZj1YOsQ6+OjOlQ8aidKN0gfPx+DrGTiZQKtafbw+86VDxKNQSJ6R3sLVJ2g+h4htWDGHuV3D2bw4hmC2oPF10onnZwEFZoAusqMDqLkWwOPUuyn3AeMfEk7LD2ABUFba9+p97QsepBtUUpjkT2hpg6d0Q8Sm21CA5WdZSfyr4TqzBC997Yhx0Rj1IN+omgMf0g6kEkEVIP4rqX3F2QZ+L+7px42sIB9UlIoYk+VDtyfQz9YeJJAu4BuDf6ho5OFKU4un6bdUI8Sm3FOONFiYMmnoqfi7Yjev8N93RCPO2oBjXmIg1M1GGQ6qh2i3SF117dOyee23FwhW27AKMad2yQ2pHrX+gPE48C1gB/Klf9pnCDmKNjen5kTCLiOULV1N3zsxC5mmKPrLnA2nMDensoVMGIHBVzA9GExysJ8ZDnNBm9/XABaQSf/hC1B/3aQVkZnGlJmC2g9N7LnuCTi9gtusG+E66r//9kxNMuDo5rltY2CjuJHhskduQSK7QE4+G3Mf43TDy3dJAProd4XyLiiQdYav2XhHgGZiyTEU9qfZlC/zDxpNDJ9xYw9+moGPcKzt+aR+49GVf3bweXdxHXNeDtZ+IZ8AG6t6TF/Xqzp/UD7x8mngcOACa2Pi8RHyj+mHge6MAz4TDh9BMDTDxMPLwkYAykjgEmHgZd6qDr55uWyx4MpcfEw8TDxMMYSB0DTDwMutRBx6pjMFRHP8eBiYeJh4mHMZA6Bph4GHSpg66fb1ouezDUFhMPEw8TD2MgdQww8TDoUgcdq47BUB39HAcmHiYeJh7GQOoYYOJh0KUOun6+abnswVBbTDxMPEw8jIHUMcDEw6BLHXSsOgZDdfRzHJh4mHiYeBgDqWOAiYdBlzro+vmm5bIHQ20x8TDxMPEwBlLHABMPgy510LHqGAzV0c9x+D8mdpyWUCWBEwAAAABJRU5ErkJggg==)"
      ]
    },
    {
      "cell_type": "code",
      "source": [
        "from sklearn.metrics import accuracy_score"
      ],
      "metadata": {
        "id": "aMMAnoWYFQY5"
      },
      "execution_count": null,
      "outputs": []
    },
    {
      "cell_type": "code",
      "metadata": {
        "id": "g19JaUTMvPKy"
      },
      "source": [
        "# accuracy on training data\n",
        "X_train_prediction = model.predict(X_train)\n",
        "training_data_accuracy = accuracy_score(Y_train, X_train_prediction)\n",
        "print(training_data_accuracy)"
      ],
      "execution_count": null,
      "outputs": []
    },
    {
      "cell_type": "code",
      "metadata": {
        "id": "uQBZvBh8v7R_"
      },
      "source": [
        "print('Accuracy on Training data : ', round(training_data_accuracy*100, 2), '%')"
      ],
      "execution_count": null,
      "outputs": []
    },
    {
      "cell_type": "code",
      "metadata": {
        "id": "mDONDJdlwBIO"
      },
      "source": [
        "# accuracy on test data\n",
        "X_test_prediction = model.predict(X_test)\n",
        "test_data_accuracy = accuracy_score(Y_test, X_test_prediction)\n",
        "print(test_data_accuracy)"
      ],
      "execution_count": null,
      "outputs": []
    },
    {
      "cell_type": "code",
      "metadata": {
        "id": "_MBS-OqdwYpf"
      },
      "source": [
        "print('Accuracy on Test data : ', round(test_data_accuracy*100, 2), '%')"
      ],
      "execution_count": null,
      "outputs": []
    },
    {
      "cell_type": "code",
      "source": [],
      "metadata": {
        "id": "saHT2LZFHK9s"
      },
      "execution_count": null,
      "outputs": []
    },
    {
      "cell_type": "markdown",
      "source": [
        "# Confusion Matrix\n",
        "\n",
        "It is the easiest way to measure the performance of a classification problem where the output can be of two or more type of classes. A confusion matrix is nothing but a table with two dimensions viz. “Actual” and “Predicted” and furthermore, both the dimensions have “True Positives (TP)”, “True Negatives (TN)”, “False Positives (FP)”, “False Negatives (FN)” as shown below −\n",
        "\n",
        "![image.png](data:image/png;base64,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)\n",
        "\n",
        "Explanation of the terms associated with confusion matrix are as follows −\n",
        "\n",
        "True Positives (TP) − It is the case when both actual class & predicted class of data point is 1.\n",
        "\n",
        "True Negatives (TN) − It is the case when both actual class & predicted class of data point is 0.\n",
        "\n",
        "False Positives (FP) − It is the case when actual class of data point is 0 & predicted class of data point is 1.\n",
        "\n",
        "False Negatives (FN) − It is the case when actual class of data point is 1 & predicted class of data point is 0."
      ],
      "metadata": {
        "id": "hOqOj3xEEqvW"
      }
    },
    {
      "cell_type": "code",
      "source": [
        "from sklearn.metrics import confusion_matrix"
      ],
      "metadata": {
        "id": "pZSEUHp7Eqcr"
      },
      "execution_count": null,
      "outputs": []
    },
    {
      "cell_type": "code",
      "source": [
        "cf_matrix = confusion_matrix(Y_test, X_test_prediction)\n",
        "\n",
        "print(cf_matrix)"
      ],
      "metadata": {
        "id": "cXkoIIujFeQn"
      },
      "execution_count": null,
      "outputs": []
    },
    {
      "cell_type": "code",
      "source": [
        "tn, fp, fn, tp = cf_matrix.ravel()\n",
        "\n",
        "print(tn, fp, fn, tp)"
      ],
      "metadata": {
        "id": "tpmo_nY8FyZl"
      },
      "execution_count": null,
      "outputs": []
    },
    {
      "cell_type": "code",
      "source": [
        "import seaborn as sns\n",
        "sns.heatmap(cf_matrix, annot=True)"
      ],
      "metadata": {
        "id": "i4ffPhNZGBR_"
      },
      "execution_count": null,
      "outputs": []
    },
    {
      "cell_type": "markdown",
      "source": [
        "**Precision**"
      ],
      "metadata": {
        "id": "FSTrUVcRZwCw"
      }
    },
    {
      "cell_type": "markdown",
      "source": [
        "Precision is the ratio of number of True Positive to the total number of Predicted Positive. It measures, out of the total predicted positive, how many are actually positive.\n",
        " ![image.png](data:image/png;base64,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)"
      ],
      "metadata": {
        "id": "UHh_Fs8FbaaD"
      }
    },
    {
      "cell_type": "code",
      "source": [
        "from sklearn.metrics import precision_score"
      ],
      "metadata": {
        "id": "ewiHzUzMTjSy"
      },
      "execution_count": null,
      "outputs": []
    },
    {
      "cell_type": "code",
      "source": [
        "# precision for training data predictions\n",
        "precision_train = precision_score(Y_train, X_train_prediction)\n",
        "print('Training data Precision =', precision_train)"
      ],
      "metadata": {
        "id": "IgRFBRkqX3HA"
      },
      "execution_count": null,
      "outputs": []
    },
    {
      "cell_type": "code",
      "source": [
        "# precision for test data predictions\n",
        "precision_test = precision_score(Y_test, X_test_prediction)\n",
        "print('Test data Precision =', precision_test)"
      ],
      "metadata": {
        "id": "ZwHkEDrvZLVO"
      },
      "execution_count": null,
      "outputs": []
    },
    {
      "cell_type": "markdown",
      "source": [
        "**Recall**"
      ],
      "metadata": {
        "id": "w2ciOBvubQCO"
      }
    },
    {
      "cell_type": "markdown",
      "source": [
        "Recall is the ratio of number of True Positive to the total number of Actual Positive. It measures, out of the total actual positive, how many are predicted as True Positive.\n",
        "\n",
        "![image.png](data:image/png;base64,iVBORw0KGgoAAAANSUhEUgAAAKsAAABGCAYAAACzMmRFAAAJmElEQVR4Ae2cf0/byBaG90MHgVVCImRVlhLhVqANWgtFCbobNVFpEdq0tNty+ZE2u6FcRFgFqEpUWQqVFfkrvKsZe5Kx4yROYorDPX8gYDwez5x55vWZMzP+xbZt0A/ZYB4Y+GUeKkl1pMHEGCBY6c0yN29WgpVgJVjp1U2v7qgZIGUlZSVljXpUUXmk1KSspKykrKSEpIRRM0DKSspKyhr1qKLySKlJWUlZSVlJCUkJo2aAlJWUlZQ16lFF5ZFSk7KSspKykhJGp4RnlSxSq2qInxzefxPPbeP9porUShKJBQWJxWT//icKEoqK3N45zK7IH//fpKxxV9buKbaTCjKVc9x2LK6C5rt1DuDy9qmrihbMdwYSC3kc++E7yTuwGjVYUlvNjyy/guWtuic9ziJDsEodGMuO+vI7lrVd3EgQHhsKBy135MDL6/21Cu3pLm587WlWVJ4389b0vu5Zfqa4C3l89t0TSzvQ5uv4v/rO/pOGF7RzrrSJBR1vvkv1Z1AbNS+Qton3zxmQGl61pLwMzrqruKtlNKWBEFdQWb1IWWOtKhZuGqdodSTQrnehMkV8uouWBJl1fYpG684La7cGg+VN/o6GlJd1fGM77Sju3lfvPTG2B8Ea484JUrlBf1UC2d8WprYM1o1DdHrXLJhHeZ6eKtRoghVkZEobAVUPpPF5Pm8F+KtD7r95rXH1XFrVoT9b5z8ZLQvd2MFB05ybiZVgh5R1SEcLA8Xr9xB/NbANwl9NY7sxfhDEq53B9SVYAzs62FgP3qFiBh9mUtStw1hk8dU8jq2YtmdC2xOsExrsIYGdyl9d24c5R20cZV+CdY46UvirGx99s/6ANtzsZbm/qu5czc1sfxSo7Fo4WL+Uoa6qWGKvlQUFSyvu0h9bynuiQS/VcOsLjYx78NTXG2WkVtNYkme5QWkBHTj1Mx+wLOtT0VkmTbvLpqzdSpqnaTuXAyDevsvxa6KveF61jLMHbENUdg8HK29oG3vZwQCzdVF24n4/83Xjxhq111KMMCjtEXRQVB39GMoJD+uPQ+QCA8x1J/C8kMXe15/jyDu+m3eWG5T2GDqI2tBnKjysgQFmG7b5ATqDeCGHA3ml5R5Vja+N+2a5QWnU0f2Ofgy2CA2rcNg13/Jc52OO+7FsB1BvV4/VxnFpHZq6jtxmFstaGQ0ZZPMcb7Z0pNYM5DezSD3bRfOHa9h2DaXnGtRnBjJpDUapjPzLujSjdWONHrcjKO1xddRjgG3WNoSENSDAbN2hdVSEupiEVjrtL9t16sinFSSyu2i58T2mej3Ir6vILCrIvL6C1bXQKDhr1MaJDft7DbkVBRx8NmFr7Tj+sFbt7yZyY42eWW5Q2j0q+6xGp/unE5JwsPYCzBo2CkXkC0XkNDY7TSP/SQ6jWDj+zZmEVZpuhTp1GCvMv7Rgd8+xvaIgsVrGGQfZwllFh7ZZRbMjBoTkTnyrIrOgIPWiP+sN8k2D0gaBuMJ7t+6s/uN+SkfS5I3AH4g6DNp3OgAnKSccrM0dpJhfKr96u5corbIwSrG/o0f4r4qGjXwRxoYOLbuO0lGbuwjWkbPhV4avV1mhotIzrP86+Y2T/r5NJ9ZoeFZlgtJ65d4TaHz3PffVnXAe/T/cDlH1RShYe/6qHCqyL1FhsLK9ktfuqPqr2PNfgyrYKDgNMuqDo9BRRwXy653t5fTu2wzyTYPSBssPqg+lzZedQsBq4WCTQeYNFdlinVo+SuFGDFQP1DZs6w6dHzYcWCW4heq1r/D3a52Dzn1Xnv4Vr546LkPzeh+6cYiO+0ymzOxYRu7PNkQ9PGmiXM9vcgPmfXCOh7Xnr/o2RLgqKs79NCsacgcN7pMuFcTZIBbaOkclq8I4MWFzmJPI/9Uf0eb/dpB5omPvkzOZEkuJN3sOvAmjhtu3OtTKJWz3mcZJG2/WNHC/OCjNA2n/WfPeWf/v9R8B6yUqmnQ6ki2zplVHzTgMd2iUdCwraWSeZaEah7hlk6brD8ipaWi/FmFs6sg8L+P4WvicFlp/5qGxJdpCHrk1HRuFfZx9Z9fv0Hy5jqUVHRvPs8hsH+KglHWWdtUijk0bdvcSr7Qkltlyr9g4HJRGsMZiQhT14BoBKylSGGPP9zHpc5RUFSl2NJtNFuXj2tJeELbN8LPY+3Fdhb6qYllx78lWcSuJw9mL/h4SXt5aFS3pehibDstDsM5iyEdyTPr2D8flGojSdE1nvjJwalbMYxiwquOOyXa8KGM5WcRnsdAjX5vhb4J1BuNxHzwOx6S/7SOTlRZOJmpTHzzP0W63DB6lkcKJjuqdIr+ow9hyj83IcxTbBr/H952CYWo5STrBOlHHel2j2ByTZlGSAfXz1nU4FG7ob9hGJPaRDP8RbxZ3Z6dr2SDhsWYDB5KKsri3mCgPf27Y+vXzEaxTwxqjY9KzwCqOdsvHtS92oLFQoW2Dxdjl2DeDj7kNztdgxIqlgswfbXdSx+Lv2X7sfWr79iEVwBOsERpTLGz0P+szaHBheCeMF9Ex6RlgFXVm6sk3IlkmDow0PHuFPTZy3Iaecjbc496rO2iyfKwuMviee0fYI0Q+gjWEkXqAjckrjp0E+X7+MiI9Jj0DrOJTRL3THzwyoKJ0MQws5jbIe5evUFHZRMuJn/MlcgH+GHv5bTLuf4I1MoMK38/3WZ/A8sWmHd+qYGBeLzTWxf7gJpzfWLw7i9zABp19NEeebBV1ll7bzC0YpYzsuu90rfnWXcDZPMRxQfF97shb/3FAjrpOsIYAZJQBe9eYurHJhq8je9fl5wxbFZTzTPL3tMoaVOd/PiBfvezvTfbVg7sNW3XvosOPGnL8fF4SS0rAd7V8ZQTaJEQegjWEkcIYV/h+E/mrAyGhKVVoSlhFnRN++EbYZNhMX3w7K+i7WmHsFyYPwTqiY8IYUOQR/mpv4jGiXLGLzT/LFmVN/HtKWCepM69TpwYjqaHyT8CgEls8Pd/VCsg3wi7j2k2wzmC82ByTnhDW5kv2JW33ODtzXZ6wo/UaSl+GwXWFvTXfMuqLc68rYJt4s3Z//ioDmWCdAdZxSvDTrk8I60+rV8S2JVgjNuiDgNC10DHvhk6KHqRO92BXgvUejPpY4IhbOwhWgtXnew7zWx8+nWAlWAnWuL1CqD4Pr4yz9gEpKykrKeuso4jun38ljLoPSVlJWUlZox5VVB4pLSkrKSspKykhKWHUDJCykrKSskY9qqg8UmpSVlJWUlZSQlLCqBkgZSVlJWWNelRReaTUpKykrHOjrP8CWjzUdN8QyUUAAAAASUVORK5CYII=)"
      ],
      "metadata": {
        "id": "MmnuwGfibtYV"
      }
    },
    {
      "cell_type": "code",
      "source": [
        "from sklearn.metrics import recall_score"
      ],
      "metadata": {
        "id": "T5bYBiioTkwI"
      },
      "execution_count": null,
      "outputs": []
    },
    {
      "cell_type": "code",
      "source": [
        "# recall for training data predictions\n",
        "recall_train = recall_score(Y_train, X_train_prediction)\n",
        "print('Training data Recall =', recall_train)"
      ],
      "metadata": {
        "id": "70bDi6xmZn14"
      },
      "execution_count": null,
      "outputs": []
    },
    {
      "cell_type": "code",
      "source": [
        "# recall for test data predictions\n",
        "recall_test = recall_score(Y_test, X_test_prediction)\n",
        "print('Test data Recall =', recall_test)"
      ],
      "metadata": {
        "id": "ci9n7r01ZqE5"
      },
      "execution_count": null,
      "outputs": []
    },
    {
      "cell_type": "markdown",
      "source": [
        "**F1 Score**"
      ],
      "metadata": {
        "id": "MBYUgKOLck-_"
      }
    },
    {
      "cell_type": "markdown",
      "source": [
        "F1 Score is an important evaluation metric for binary classification that combines Precision & Recall. F1 Score is the harmonic mean of Precision & Recall.\n",
        "\n",
        "𝑭𝟏 = 𝟐 ∗ (𝒑𝒓𝒆𝒄𝒊𝒔𝒊𝒐𝒏 ∗ 𝒓𝒆𝒄𝒂𝒍𝒍) / (𝒑𝒓𝒆𝒄𝒊𝒔𝒊𝒐𝒏 + 𝒓𝒆𝒄𝒂𝒍𝒍)"
      ],
      "metadata": {
        "id": "YIudfNwmgCjs"
      }
    },
    {
      "cell_type": "code",
      "source": [
        "from sklearn.metrics import f1_score"
      ],
      "metadata": {
        "id": "pP9PIZscaFm0"
      },
      "execution_count": null,
      "outputs": []
    },
    {
      "cell_type": "code",
      "source": [
        "# F1 score for training data predictions\n",
        "f1_score_train = f1_score(Y_train, X_train_prediction)\n",
        "print('Training data F1 Score =', f1_score_train)"
      ],
      "metadata": {
        "id": "oHwExAAtaFm8"
      },
      "execution_count": null,
      "outputs": []
    },
    {
      "cell_type": "code",
      "source": [
        "# F1 Score for test data predictions\n",
        "f1_score_test = recall_score(Y_test, X_test_prediction)\n",
        "print('Test data F1 Score =', f1_score_test)"
      ],
      "metadata": {
        "id": "n628BUyvaFm9"
      },
      "execution_count": null,
      "outputs": []
    },
    {
      "cell_type": "markdown",
      "source": [
        "**Precision, Recall, & F1 Score - function**"
      ],
      "metadata": {
        "id": "5tH0z-JUa76n"
      }
    },
    {
      "cell_type": "code",
      "source": [
        "def precision_recall_f1_score(true_labels, pred_labels):\n",
        "\n",
        "  precision_value = precision_score(true_labels, pred_labels)\n",
        "  recall_value = recall_score(true_labels, pred_labels)\n",
        "  f1_score_value = f1_score(true_labels, pred_labels)\n",
        "\n",
        "  print('Precision =',precision_value)\n",
        "  print('Recall =',recall_value)\n",
        "  print('F1 Score =',f1_score_value)"
      ],
      "metadata": {
        "id": "xGPnMqsdfMay"
      },
      "execution_count": null,
      "outputs": []
    },
    {
      "cell_type": "code",
      "source": [
        "# classification metrics for training data\n",
        "precision_recall_f1_score(Y_train, X_train_prediction)"
      ],
      "metadata": {
        "id": "hTOAPCDEb5FB"
      },
      "execution_count": null,
      "outputs": []
    },
    {
      "cell_type": "code",
      "source": [
        "# classification metrics for test data\n",
        "precision_recall_f1_score(Y_test, X_test_prediction)"
      ],
      "metadata": {
        "id": "kr20IWwicIdq"
      },
      "execution_count": null,
      "outputs": []
    },
    {
      "cell_type": "markdown",
      "source": [
        "**Loss**\n",
        "\n",
        " Log loss, also known as logarithmic loss or cross-entropy loss, is a common evaluation metric for binary classification models. It measures the performance of a model by quantifying the difference between predicted probabilities and actual values. Log-loss is indicative of how close the prediction probability is to the corresponding actual/true value (0 or 1 in case of binary classification), penalizing inaccurate predictions with higher values. Lower log-loss indicates better model performance.\n",
        "\n",
        "Log Loss is the most important classification metric based on probabilities. It’s hard to interpret raw log-loss values, but log-loss is still a good metric for comparing models. For any given problem, a lower log loss value means better predictions.\n",
        "\n",
        "![image.png](data:image/png;base64,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)\n",
        "\n"
      ],
      "metadata": {
        "id": "C1HPpCUSvPeZ"
      }
    },
    {
      "cell_type": "code",
      "source": [
        "from sklearn.metrics import log_loss\n",
        "# loss on training data\n",
        "X_train_prediction = model.predict(X_train)\n",
        "training_data_loss = log_loss(Y_train, X_train_prediction, eps=1e-15)\n",
        "print(training_data_loss)"
      ],
      "metadata": {
        "id": "NFwWdWe6vFUC"
      },
      "execution_count": null,
      "outputs": []
    },
    {
      "cell_type": "code",
      "source": [
        "# loss on test data\n",
        "X_test_prediction = model.predict(X_test)\n",
        "test_data_loss = log_loss(Y_test, X_test_prediction, eps=1e-15)\n",
        "print(test_data_loss)"
      ],
      "metadata": {
        "id": "oHlguyPTvFUD"
      },
      "execution_count": null,
      "outputs": []
    },
    {
      "cell_type": "markdown",
      "source": [
        "**ROC**\n",
        "\n",
        "AUC (Area Under Curve)-ROC (Receiver Operating Characteristic) is a performance metric, based on varying threshold values, for classification problems. As name suggests, ROC is a probability curve and AUC measure the separability. In simple words, AUC-ROC metric will tell us about the capability of model in distinguishing the classes. Higher the AUC, better the model.\n",
        "\n",
        "\n",
        "\n",
        "\n",
        "\n",
        "\n",
        "Mathematically, it can be created by plotting TPR (True Positive Rate) i.e. Sensitivity or recall vs FPR (False Positive Rate) i.e. 1-Specificity, at various threshold values. Following is the graph showing ROC, AUC having TPR at y-axis and FPR at x-axis −"
      ],
      "metadata": {
        "id": "GCFAewLFDr4q"
      }
    },
    {
      "cell_type": "code",
      "source": [
        "import matplotlib.pyplot as plt\n",
        "from sklearn.metrics import roc_curve, auc\n",
        "\n",
        "logistic_fpr, logistic_tpr, threshold = roc_curve(Y_test, X_test_prediction)\n",
        "auc_logistic = auc(logistic_fpr, logistic_tpr)\n",
        "\n",
        "plt.figure(figsize=(5, 5), dpi=100)\n",
        "plt.plot(logistic_fpr, logistic_tpr, marker='.', label='Logistic (auc = %0.3f)' % auc_logistic)\n",
        "\n",
        "plt.xlabel('False Positive Rate -->')\n",
        "plt.ylabel('True Positive Rate -->')\n",
        "\n",
        "plt.legend()\n",
        "\n",
        "plt.show()"
      ],
      "metadata": {
        "id": "W6gtqxPkcR01"
      },
      "execution_count": null,
      "outputs": []
    }
  ]
}